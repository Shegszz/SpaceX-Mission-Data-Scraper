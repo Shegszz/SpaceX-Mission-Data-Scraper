{
 "cells": [
  {
   "cell_type": "markdown",
   "id": "049c50d1",
   "metadata": {},
   "source": [
    "# SpaceX Mission Data Extraction and Cleaning"
   ]
  },
  {
   "cell_type": "code",
   "execution_count": null,
   "id": "0b7e22b4",
   "metadata": {},
   "outputs": [],
   "source": [
    "import requests\n",
    "from bs4 import BeautifulSoup\n",
    "\n",
    "#Step 1: Web Scraping SpaceX Mission Launch Data\n",
    "url = 'https://www.spacex.com/launches/'\n",
    "response = requests.get(url)\n",
    "soup1 = BeautifulSoup(response.content, 'html.parser')\n",
    "soup2 = BeautifulSoup(soup1.prettify(), 'html.parser')\n",
    "missions = soup2.find_all('div', class_=\"item\")\n",
    "mission_data = []\n",
    "for mission in missions:\n",
    "    launch_date = mission.find('div',class_='date').text.strip()\n",
    "    mission_name = mission.find('div',class_='label').text.strip()\n",
    "    article = mission.find('a', class_='article-header', attrs={'aria-hidden': 'true'})\n",
    "    if article:\n",
    "        link = article.get('href')\n",
    "    mission_data.append({\n",
    "        'Mission': mission_name,\n",
    "        'Launch Date': launch_date,\n",
    "        'launch_link': link\n",
    "    })\n",
    "print(mission_data)"
   ]
  },
  {
   "cell_type": "code",
   "execution_count": null,
   "id": "af10b443",
   "metadata": {},
   "outputs": [],
   "source": [
    "# Step 2: Extracting Mission Headlines from each mission launch link\n",
    "for mission in mission_data:\n",
    "    link = mission['launch_link']\n",
    "    if link and link != 'N/A':\n",
    "        mission_url = f\"https://www.spacex.com{link}\"\n",
    "        mission_response = requests.get(mission_url)#get each link page contents\n",
    "        mission_soup = BeautifulSoup(mission_response.content, 'html.parser')#parse the page content with BeautifulSoup\n",
    "    #List to hold the extracted headlines\n",
    "        mission_headline = []\n",
    "        \n",
    "    #Find the container with the paragraph tags(p)\n",
    "        mission_headlines = mission_soup.find('div', id='scroller')\n",
    "        \n",
    "    #Initialize a counter\n",
    "        counter = 0\n",
    "        \n",
    "    #Iterate through the paragraph tags(p) in the container\n",
    "        for news in mission_headlines.find_all('p'):\n",
    "            \n",
    "        #Append the paragraph text to the list\n",
    "            mission_headline.append(news.get_text(strip=True))\n",
    "            \n",
    "        #Increase the counter\n",
    "            counter += 2\n",
    "            \n",
    "        #Break loop after first 2 paragraphs(p)\n",
    "            if counter >= 3:\n",
    "                break\n",
    "                \n",
    "        #Add list to mission_data\n",
    "        mission['mission_headline'] = mission_headline\n",
    "for data in mission_data:\n",
    "    print(data)"
   ]
  },
  {
   "cell_type": "code",
   "execution_count": null,
   "id": "c9158306",
   "metadata": {},
   "outputs": [],
   "source": [
    "#Converting to DataFrame\n",
    "import pandas as pd\n",
    "df = pd.DataFrame(mission_data, columns=['Mission','Launch Date', 'launch_link', 'mission_headline'])\n",
    "df"
   ]
  },
  {
   "cell_type": "code",
   "execution_count": null,
   "id": "5313dec1",
   "metadata": {},
   "outputs": [],
   "source": [
    "import pandas as pd\n",
    "pd.set_option('display.max_columns', None)\n",
    "pd.set_option('display.max_rows', None)\n",
    "df"
   ]
  },
  {
   "cell_type": "code",
   "execution_count": null,
   "id": "0b7ffaf3",
   "metadata": {},
   "outputs": [],
   "source": [
    "#Step 3: Cleaning the extracted mission headlines \n",
    "df['mission_headline'] = df['mission_headline'].str.replace(\"[\",'')\n",
    "df['mission_headline'] = df['mission_headline'].str.replace(\"]\",'')\n",
    "df[\"mission_headline\"] = df['mission_headline'].str.replace(\"{\",'')\n",
    "df['mission_headline'] = df['mission_headline'].str.replace(\"}\",'')\n",
    "df[\"mission_headline\"] = df['mission_headline'].str.replace(\"'\",'')\n",
    "df[\"mission_headline\"] = df[\"mission_headline\"].str.replace(\"'new':\",'')\n",
    "df[\"mission_headline\"] = df['mission_headline'].str.replace('\"','')\n",
    "df"
   ]
  },
  {
   "cell_type": "code",
   "execution_count": null,
   "id": "e7fa4cd4",
   "metadata": {},
   "outputs": [],
   "source": [
    "#Dropping Columns\n",
    "df = df.drop(columns = \"Unnamed: 0\")\n",
    "df"
   ]
  },
  {
   "cell_type": "code",
   "execution_count": null,
   "id": "abed2333",
   "metadata": {},
   "outputs": [],
   "source": [
    "#Save to csv\n",
    "df.to_csv('Spacex_Mission_Launch_data.csv')"
   ]
  },
  {
   "cell_type": "code",
   "execution_count": null,
   "id": "81035d78",
   "metadata": {},
   "outputs": [],
   "source": []
  }
 ],
 "metadata": {
  "kernelspec": {
   "display_name": "Python 3 (ipykernel)",
   "language": "python",
   "name": "python3"
  },
  "language_info": {
   "codemirror_mode": {
    "name": "ipython",
    "version": 3
   },
   "file_extension": ".py",
   "mimetype": "text/x-python",
   "name": "python",
   "nbconvert_exporter": "python",
   "pygments_lexer": "ipython3",
   "version": "3.11.5"
  }
 },
 "nbformat": 4,
 "nbformat_minor": 5
}
